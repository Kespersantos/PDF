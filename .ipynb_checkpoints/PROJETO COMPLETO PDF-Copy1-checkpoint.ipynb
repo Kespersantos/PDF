{
 "cells": [
  {
   "cell_type": "markdown",
   "id": "589bc278",
   "metadata": {},
   "source": [
    "# SISTEMA DE ORÇAMENTOS"
   ]
  },
  {
   "cell_type": "markdown",
   "id": "662da508",
   "metadata": {},
   "source": [
    "## MOSTRANDO DADOS PARA O USUARIO"
   ]
  },
  {
   "cell_type": "code",
   "execution_count": null,
   "id": "17942f76",
   "metadata": {},
   "outputs": [],
   "source": [
    "print(\"Orçamento gerado com sucesso\")\n"
   ]
  },
  {
   "cell_type": "markdown",
   "id": "14cf1091",
   "metadata": {},
   "source": [
    "## Entrada de dados do usuario"
   ]
  },
  {
   "cell_type": "code",
   "execution_count": 1,
   "id": "6b287770",
   "metadata": {},
   "outputs": [
    {
     "name": "stdout",
     "output_type": "stream",
     "text": [
      "Digite a descrição do projeto:Desenvolvimento Phyton\n",
      "Digite a quantidade de horas previstas:200\n"
     ]
    },
    {
     "data": {
      "text/plain": [
       "'200'"
      ]
     },
     "execution_count": 1,
     "metadata": {},
     "output_type": "execute_result"
    }
   ],
   "source": [
    "input(\"Digite a descrição do projeto:\")\n",
    "input(\"Digite a quantidade de horas previstas:\")\n",
    "input(\"Digite o valor da hora cobrada\")\n",
    "input(\"Digite o prazo\")"
   ]
  },
  {
   "cell_type": "markdown",
   "id": "f505b5d3",
   "metadata": {},
   "source": [
    "## Armazenando dados com variaveis"
   ]
  },
  {
   "cell_type": "code",
   "execution_count": 34,
   "id": "1a95c5e6",
   "metadata": {},
   "outputs": [
    {
     "name": "stdout",
     "output_type": "stream",
     "text": [
      "Digite a descrição do projeto:Projeto Phyton\n",
      "Digite a quantidade de horas previstas:200\n",
      "Digite o valor da hora cobrada:300\n",
      "Digite o prazo:5 dias úteis\n"
     ]
    }
   ],
   "source": [
    "projeto= input(\"Digite a descrição do projeto:\")\n",
    "horas_previstas= input(\"Digite a quantidade de horas previstas:\")\n",
    "valor_hora= input(\"Digite o valor da hora cobrada:\")\n",
    "prazo= input(\"Digite o prazo:\")"
   ]
  },
  {
   "cell_type": "markdown",
   "id": "29ec42cf",
   "metadata": {},
   "source": [
    "## Calculando o valor total do projeto"
   ]
  },
  {
   "cell_type": "code",
   "execution_count": 43,
   "id": "8f8af235",
   "metadata": {},
   "outputs": [],
   "source": [
    "valor_total=int(horas_previstas)*int(valor_hora)\n",
    "print=(\"valor_total\")\n",
    "\n"
   ]
  },
  {
   "cell_type": "markdown",
   "id": "3c6751f1",
   "metadata": {},
   "source": [
    "### Tipos de dados/convertendo numero em texto"
   ]
  },
  {
   "cell_type": "code",
   "execution_count": null,
   "id": "b283ca0d",
   "metadata": {},
   "outputs": [],
   "source": [
    "\"int* converte texto em numero / str* converte para texto"
   ]
  },
  {
   "cell_type": "markdown",
   "id": "c8f68272",
   "metadata": {},
   "source": [
    "### Instalando Ferramenta"
   ]
  },
  {
   "cell_type": "code",
   "execution_count": 22,
   "id": "8a33a085",
   "metadata": {},
   "outputs": [
    {
     "name": "stdout",
     "output_type": "stream",
     "text": [
      "Requirement already satisfied: fpdf in c:\\users\\kesper\\anaconda3\\lib\\site-packages (1.7.2)\n"
     ]
    }
   ],
   "source": [
    "!pip install fpdf\n"
   ]
  },
  {
   "cell_type": "code",
   "execution_count": 23,
   "id": "d46857b8",
   "metadata": {},
   "outputs": [],
   "source": [
    "from fpdf import FPDF\n"
   ]
  },
  {
   "cell_type": "markdown",
   "id": "783f486a",
   "metadata": {},
   "source": [
    "### Gerando PDF do Projeto"
   ]
  },
  {
   "cell_type": "code",
   "execution_count": 35,
   "id": "f4d2d23f",
   "metadata": {},
   "outputs": [
    {
     "name": "stdout",
     "output_type": "stream",
     "text": [
      "Orçamento gerado com sucesso!\n"
     ]
    }
   ],
   "source": [
    "pdf = FPDF ()\n",
    "\n",
    "pdf.add_page()\n",
    "pdf.set_font(\"Arial\")\n",
    "pdf.image(\"template.png\",x=0,y=0)\n",
    "\n",
    "pdf.text(115,145,projeto)\n",
    "pdf.text(115,160,horas_previstas)\n",
    "pdf.text(115,175,valor_hora)\n",
    "pdf.text(115,190,prazo)\n",
    "pdf.text(115,205,str(valor_total))\n",
    "pdf.output(\"Orçamento.pdf\")\n",
    "print(\"Orçamento gerado com sucesso!\")\n"
   ]
  },
  {
   "cell_type": "code",
   "execution_count": null,
   "id": "339b31c5",
   "metadata": {},
   "outputs": [],
   "source": []
  }
 ],
 "metadata": {
  "kernelspec": {
   "display_name": "Python 3 (ipykernel)",
   "language": "python",
   "name": "python3"
  },
  "language_info": {
   "codemirror_mode": {
    "name": "ipython",
    "version": 3
   },
   "file_extension": ".py",
   "mimetype": "text/x-python",
   "name": "python",
   "nbconvert_exporter": "python",
   "pygments_lexer": "ipython3",
   "version": "3.11.3"
  }
 },
 "nbformat": 4,
 "nbformat_minor": 5
}
